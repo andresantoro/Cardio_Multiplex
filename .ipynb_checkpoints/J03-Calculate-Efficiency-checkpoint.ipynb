{
 "cells": [
  {
   "cell_type": "markdown",
   "metadata": {},
   "source": [
    "# Network Efficiency"
   ]
  },
  {
   "cell_type": "markdown",
   "metadata": {},
   "source": [
    "## Housekeeping"
   ]
  },
  {
   "cell_type": "code",
   "execution_count": 1,
   "metadata": {
    "collapsed": true
   },
   "outputs": [],
   "source": [
    "import numpy as np\n",
    "import copy\n",
    "#import commands\n",
    "import subprocess\n",
    "import os\n",
    "percentage= 0.1"
   ]
  },
  {
   "cell_type": "markdown",
   "metadata": {},
   "source": [
    "## Efficiency"
   ]
  },
  {
   "cell_type": "code",
   "execution_count": 23,
   "metadata": {},
   "outputs": [
    {
     "name": "stdout",
     "output_type": "stream",
     "text": [
      "0.1\n",
      "Efficiency: 0.18718971639471632\n",
      "0.2\n",
      "Efficiency: 0.33042613636363666\n",
      "0.3\n",
      "Efficiency: 0.4712850427350417\n",
      "0.4\n",
      "Efficiency: 0.5537271561771554\n",
      "0.5\n",
      "Efficiency: 0.6054782634032629\n",
      "0.6\n",
      "Efficiency: 0.7684690365190374\n",
      "0.7\n",
      "Efficiency: 0.8489707653457645\n",
      "0.8\n",
      "Efficiency: 0.8982374902874899\n",
      "0.9\n",
      "Efficiency: 0.9482327117327116\n",
      "0.1\n",
      "Efficiency: 0.1516566136849264\n",
      "0.2\n",
      "Efficiency: 0.33257415428321696\n",
      "0.3\n",
      "Efficiency: 0.39055935805166975\n",
      "0.4\n",
      "Efficiency: 0.530727725524475\n",
      "0.5\n",
      "Efficiency: 0.6546307951631705\n",
      "0.6\n",
      "Efficiency: 0.7178639041375291\n",
      "0.7\n",
      "Efficiency: 0.7702332077505837\n",
      "0.8\n",
      "Efficiency: 0.8986260101010095\n",
      "0.9\n",
      "Efficiency: 0.9483783993783993\n",
      "0.1\n",
      "Efficiency: 0.16019643157536925\n",
      "0.2\n",
      "Efficiency: 0.3088031783216785\n",
      "0.3\n",
      "Efficiency: 0.4700297175602168\n",
      "0.4\n",
      "Efficiency: 0.5947573114316238\n",
      "0.5\n",
      "Efficiency: 0.6630158268745142\n",
      "0.6\n",
      "Efficiency: 0.7240091346153854\n",
      "0.7\n",
      "Efficiency: 0.8317394667832158\n",
      "0.8\n",
      "Efficiency: 0.8988847999222985\n",
      "0.9\n",
      "Efficiency: 0.9485240870240871\n",
      "0.1\n",
      "Efficiency: 0.3503531856546228\n",
      "0.2\n",
      "Efficiency: 0.5373518532439774\n",
      "0.3\n",
      "Efficiency: 0.6205053286713291\n",
      "0.4\n",
      "Efficiency: 0.6797805905691529\n",
      "0.5\n",
      "Efficiency: 0.7363023462509712\n",
      "0.6\n"
     ]
    },
    {
     "ename": "KeyboardInterrupt",
     "evalue": "",
     "output_type": "error",
     "traceback": [
      "\u001b[0;31m---------------------------------------------------------------------------\u001b[0m",
      "\u001b[0;31mKeyboardInterrupt\u001b[0m                         Traceback (most recent call last)",
      "\u001b[0;32m<ipython-input-23-1a7b90cf6d9e>\u001b[0m in \u001b[0;36m<module>\u001b[0;34m()\u001b[0m\n\u001b[1;32m     41\u001b[0m         \u001b[0;32mfor\u001b[0m \u001b[0mk\u001b[0m \u001b[0;32min\u001b[0m \u001b[0mrange\u001b[0m\u001b[0;34m(\u001b[0m\u001b[0;36m1\u001b[0m\u001b[0;34m,\u001b[0m\u001b[0mmax_healthy\u001b[0m\u001b[0;34m)\u001b[0m\u001b[0;34m:\u001b[0m\u001b[0;34m\u001b[0m\u001b[0m\n\u001b[1;32m     42\u001b[0m             \u001b[0mstr_tosys\u001b[0m\u001b[0;34m=\u001b[0m\u001b[0;34m\"/home/drkar/Software/netbunch-1.0/src/shortest/shortest {0}edge_list_{1}.txt \"\u001b[0m\u001b[0;34m.\u001b[0m\u001b[0mformat\u001b[0m\u001b[0;34m(\u001b[0m\u001b[0mfolder\u001b[0m\u001b[0;34m,\u001b[0m\u001b[0mstr\u001b[0m\u001b[0;34m(\u001b[0m\u001b[0mpercentage\u001b[0m\u001b[0;34m)\u001b[0m\u001b[0;34m)\u001b[0m \u001b[0;34m+\u001b[0m \u001b[0mstr\u001b[0m\u001b[0;34m(\u001b[0m\u001b[0mk\u001b[0m\u001b[0;34m)\u001b[0m \u001b[0;34m+\u001b[0m \u001b[0;34m\" | awk 'BEGIN {SUM=0} {for(i=1; i<NF; i++) if ($i != 64 && $i != 0 && $i != 65)  SUM+=1.0/$i} END {print SUM}'\"\u001b[0m\u001b[0;34m\u001b[0m\u001b[0m\n\u001b[0;32m---> 43\u001b[0;31m             \u001b[0mstatus\u001b[0m\u001b[0;34m,\u001b[0m \u001b[0moutput\u001b[0m \u001b[0;34m=\u001b[0m \u001b[0msubprocess\u001b[0m\u001b[0;34m.\u001b[0m\u001b[0mgetstatusoutput\u001b[0m\u001b[0;34m(\u001b[0m\u001b[0mstr_tosys\u001b[0m\u001b[0;34m)\u001b[0m\u001b[0;34m\u001b[0m\u001b[0m\n\u001b[0m\u001b[1;32m     44\u001b[0m             \u001b[0mefficiency_healthy\u001b[0m\u001b[0;34m+=\u001b[0m\u001b[0mfloat\u001b[0m\u001b[0;34m(\u001b[0m\u001b[0moutput\u001b[0m\u001b[0;34m)\u001b[0m\u001b[0;34m\u001b[0m\u001b[0m\n\u001b[1;32m     45\u001b[0m         \u001b[0mefficiency_healthy\u001b[0m \u001b[0;34m=\u001b[0m \u001b[0;34m(\u001b[0m\u001b[0;36m1.0\u001b[0m\u001b[0;34m*\u001b[0m\u001b[0mefficiency_healthy\u001b[0m\u001b[0;34m)\u001b[0m\u001b[0;34m/\u001b[0m\u001b[0;34m(\u001b[0m\u001b[0mlen\u001b[0m\u001b[0;34m(\u001b[0m\u001b[0mhealthy_data\u001b[0m\u001b[0;34m)\u001b[0m\u001b[0;34m*\u001b[0m\u001b[0;34m(\u001b[0m\u001b[0mlen\u001b[0m\u001b[0;34m(\u001b[0m\u001b[0mhealthy_data\u001b[0m\u001b[0;34m)\u001b[0m\u001b[0;34m-\u001b[0m\u001b[0;36m1\u001b[0m\u001b[0;34m)\u001b[0m\u001b[0;34m)\u001b[0m\u001b[0;34m\u001b[0m\u001b[0m\n",
      "\u001b[0;32m~/Software/anaconda3/lib/python3.6/subprocess.py\u001b[0m in \u001b[0;36mgetstatusoutput\u001b[0;34m(cmd)\u001b[0m\n\u001b[1;32m    515\u001b[0m     \"\"\"\n\u001b[1;32m    516\u001b[0m     \u001b[0;32mtry\u001b[0m\u001b[0;34m:\u001b[0m\u001b[0;34m\u001b[0m\u001b[0m\n\u001b[0;32m--> 517\u001b[0;31m         \u001b[0mdata\u001b[0m \u001b[0;34m=\u001b[0m \u001b[0mcheck_output\u001b[0m\u001b[0;34m(\u001b[0m\u001b[0mcmd\u001b[0m\u001b[0;34m,\u001b[0m \u001b[0mshell\u001b[0m\u001b[0;34m=\u001b[0m\u001b[0;32mTrue\u001b[0m\u001b[0;34m,\u001b[0m \u001b[0muniversal_newlines\u001b[0m\u001b[0;34m=\u001b[0m\u001b[0;32mTrue\u001b[0m\u001b[0;34m,\u001b[0m \u001b[0mstderr\u001b[0m\u001b[0;34m=\u001b[0m\u001b[0mSTDOUT\u001b[0m\u001b[0;34m)\u001b[0m\u001b[0;34m\u001b[0m\u001b[0m\n\u001b[0m\u001b[1;32m    518\u001b[0m         \u001b[0mexitcode\u001b[0m \u001b[0;34m=\u001b[0m \u001b[0;36m0\u001b[0m\u001b[0;34m\u001b[0m\u001b[0m\n\u001b[1;32m    519\u001b[0m     \u001b[0;32mexcept\u001b[0m \u001b[0mCalledProcessError\u001b[0m \u001b[0;32mas\u001b[0m \u001b[0mex\u001b[0m\u001b[0;34m:\u001b[0m\u001b[0;34m\u001b[0m\u001b[0m\n",
      "\u001b[0;32m~/Software/anaconda3/lib/python3.6/subprocess.py\u001b[0m in \u001b[0;36mcheck_output\u001b[0;34m(timeout, *popenargs, **kwargs)\u001b[0m\n\u001b[1;32m    334\u001b[0m \u001b[0;34m\u001b[0m\u001b[0m\n\u001b[1;32m    335\u001b[0m     return run(*popenargs, stdout=PIPE, timeout=timeout, check=True,\n\u001b[0;32m--> 336\u001b[0;31m                **kwargs).stdout\n\u001b[0m\u001b[1;32m    337\u001b[0m \u001b[0;34m\u001b[0m\u001b[0m\n\u001b[1;32m    338\u001b[0m \u001b[0;34m\u001b[0m\u001b[0m\n",
      "\u001b[0;32m~/Software/anaconda3/lib/python3.6/subprocess.py\u001b[0m in \u001b[0;36mrun\u001b[0;34m(input, timeout, check, *popenargs, **kwargs)\u001b[0m\n\u001b[1;32m    401\u001b[0m         \u001b[0mkwargs\u001b[0m\u001b[0;34m[\u001b[0m\u001b[0;34m'stdin'\u001b[0m\u001b[0;34m]\u001b[0m \u001b[0;34m=\u001b[0m \u001b[0mPIPE\u001b[0m\u001b[0;34m\u001b[0m\u001b[0m\n\u001b[1;32m    402\u001b[0m \u001b[0;34m\u001b[0m\u001b[0m\n\u001b[0;32m--> 403\u001b[0;31m     \u001b[0;32mwith\u001b[0m \u001b[0mPopen\u001b[0m\u001b[0;34m(\u001b[0m\u001b[0;34m*\u001b[0m\u001b[0mpopenargs\u001b[0m\u001b[0;34m,\u001b[0m \u001b[0;34m**\u001b[0m\u001b[0mkwargs\u001b[0m\u001b[0;34m)\u001b[0m \u001b[0;32mas\u001b[0m \u001b[0mprocess\u001b[0m\u001b[0;34m:\u001b[0m\u001b[0;34m\u001b[0m\u001b[0m\n\u001b[0m\u001b[1;32m    404\u001b[0m         \u001b[0;32mtry\u001b[0m\u001b[0;34m:\u001b[0m\u001b[0;34m\u001b[0m\u001b[0m\n\u001b[1;32m    405\u001b[0m             \u001b[0mstdout\u001b[0m\u001b[0;34m,\u001b[0m \u001b[0mstderr\u001b[0m \u001b[0;34m=\u001b[0m \u001b[0mprocess\u001b[0m\u001b[0;34m.\u001b[0m\u001b[0mcommunicate\u001b[0m\u001b[0;34m(\u001b[0m\u001b[0minput\u001b[0m\u001b[0;34m,\u001b[0m \u001b[0mtimeout\u001b[0m\u001b[0;34m=\u001b[0m\u001b[0mtimeout\u001b[0m\u001b[0;34m)\u001b[0m\u001b[0;34m\u001b[0m\u001b[0m\n",
      "\u001b[0;32m~/Software/anaconda3/lib/python3.6/subprocess.py\u001b[0m in \u001b[0;36m__init__\u001b[0;34m(self, args, bufsize, executable, stdin, stdout, stderr, preexec_fn, close_fds, shell, cwd, env, universal_newlines, startupinfo, creationflags, restore_signals, start_new_session, pass_fds, encoding, errors)\u001b[0m\n\u001b[1;32m    707\u001b[0m                                 \u001b[0mc2pread\u001b[0m\u001b[0;34m,\u001b[0m \u001b[0mc2pwrite\u001b[0m\u001b[0;34m,\u001b[0m\u001b[0;34m\u001b[0m\u001b[0m\n\u001b[1;32m    708\u001b[0m                                 \u001b[0merrread\u001b[0m\u001b[0;34m,\u001b[0m \u001b[0merrwrite\u001b[0m\u001b[0;34m,\u001b[0m\u001b[0;34m\u001b[0m\u001b[0m\n\u001b[0;32m--> 709\u001b[0;31m                                 restore_signals, start_new_session)\n\u001b[0m\u001b[1;32m    710\u001b[0m         \u001b[0;32mexcept\u001b[0m\u001b[0;34m:\u001b[0m\u001b[0;34m\u001b[0m\u001b[0m\n\u001b[1;32m    711\u001b[0m             \u001b[0;31m# Cleanup if the child failed starting.\u001b[0m\u001b[0;34m\u001b[0m\u001b[0;34m\u001b[0m\u001b[0m\n",
      "\u001b[0;32m~/Software/anaconda3/lib/python3.6/subprocess.py\u001b[0m in \u001b[0;36m_execute_child\u001b[0;34m(self, args, executable, preexec_fn, close_fds, pass_fds, cwd, env, startupinfo, creationflags, shell, p2cread, p2cwrite, c2pread, c2pwrite, errread, errwrite, restore_signals, start_new_session)\u001b[0m\n\u001b[1;32m   1273\u001b[0m                             \u001b[0merrread\u001b[0m\u001b[0;34m,\u001b[0m \u001b[0merrwrite\u001b[0m\u001b[0;34m,\u001b[0m\u001b[0;34m\u001b[0m\u001b[0m\n\u001b[1;32m   1274\u001b[0m                             \u001b[0merrpipe_read\u001b[0m\u001b[0;34m,\u001b[0m \u001b[0merrpipe_write\u001b[0m\u001b[0;34m,\u001b[0m\u001b[0;34m\u001b[0m\u001b[0m\n\u001b[0;32m-> 1275\u001b[0;31m                             restore_signals, start_new_session, preexec_fn)\n\u001b[0m\u001b[1;32m   1276\u001b[0m                     \u001b[0mself\u001b[0m\u001b[0;34m.\u001b[0m\u001b[0m_child_created\u001b[0m \u001b[0;34m=\u001b[0m \u001b[0;32mTrue\u001b[0m\u001b[0;34m\u001b[0m\u001b[0m\n\u001b[1;32m   1277\u001b[0m                 \u001b[0;32mfinally\u001b[0m\u001b[0;34m:\u001b[0m\u001b[0;34m\u001b[0m\u001b[0m\n",
      "\u001b[0;31mKeyboardInterrupt\u001b[0m: "
     ]
    }
   ],
   "source": [
    "FOLDER= ['planar300/', 'planar600/','planar1000/','spot300/','spot600/','spot1000/',\n",
    "         'sw1/','sw2/','sw3/','sw4/','sw5/','sw6/','sw7/','anatomical/']\n",
    "#FOLDER= ['planar300/']\n",
    "\n",
    "for folder in FOLDER:\n",
    "    str1='{0}efficiency.txt'.format(folder)\n",
    "    fefficiency = open(str1,'w+')\n",
    "    for percentage in np.arange(0.1,1, 0.1):\n",
    "        print(percentage)\n",
    "        str1='./{0}network.txt'.format(folder)\n",
    "        healthy_data=np.loadtxt(str1)\n",
    "        data = copy.deepcopy(healthy_data)\n",
    "        data=sorted(data.flatten())\n",
    "        L = len(healthy_data)\n",
    "        T= L * (L-1)/2\n",
    "        for x in data:\n",
    "            if (len(healthy_data[healthy_data > x])-L) /2 <  round(T*(percentage+0.01)) and (len(healthy_data[healthy_data > x])-L) /2 >  round(T*(percentage-0.01)):\n",
    "                break\n",
    "        max_healthy=0\n",
    "        str1='{0}edge_list_'.format(folder) + str(percentage)+'.txt'\n",
    "        f_healthy = open(str1,'w+')\n",
    "        for i in range(0,len(healthy_data)-1):\n",
    "            for j in range(i+1,len(healthy_data)):\n",
    "                if healthy_data[i,j] > x:\n",
    "                    f_healthy.write('%d %d\\n' % (i+1,j+1))\n",
    "                    #This is for finding the maximum node of the network\n",
    "                    if i+1 > max_healthy:\n",
    "                        max_healthy=i+1\n",
    "                    if j+1 > max_healthy:\n",
    "                        max_healthy=j+1\n",
    "        f_healthy.close()\n",
    "        max_healthy+=1\n",
    "        str1='/home/drkar/Software/netbunch-1.0/src/deg_seq/deg_seq_all DISTR {0}edge_list_{1}.txt > {0}edge_list_{1}.txt_dgdistr'.format(folder,str(percentage))\n",
    "        os.system(str1)\n",
    "        str1='/home/drkar/Software/netbunch-1.0/src/components/components {0}edge_list_{1}.txt | sort -n | tail -1 >> {0}largest_CC.txt'.format(folder,str(percentage))\n",
    "        #Computing the size of the giant component\n",
    "        os.system(str1)\n",
    "\n",
    "        #computing the Latora-Marchiori efficiency of the healthy network\n",
    "        efficiency_healthy = 0.0\n",
    "        for k in range(1,max_healthy):\n",
    "            str_tosys=\"/home/drkar/Software/netbunch-1.0/src/shortest/shortest {0}edge_list_{1}.txt \".format(folder,str(percentage)) + str(k) + \" | awk 'BEGIN {SUM=0} {for(i=1; i<NF; i++) if ($i != 64 && $i != 0 && $i != 65)  SUM+=1.0/$i} END {print SUM}'\"\n",
    "            status, output = subprocess.getstatusoutput(str_tosys)\n",
    "            efficiency_healthy+=float(output)\n",
    "        efficiency_healthy = (1.0*efficiency_healthy)/(len(healthy_data)*(len(healthy_data)-1))\n",
    "        print(\"Efficiency: %s\" % str(efficiency_healthy))\n",
    "        fefficiency.write('%f %f\\n' % (percentage,efficiency_healthy))\n",
    "\n",
    "    \n",
    "fefficiency.close()\n"
   ]
  },
  {
   "cell_type": "code",
   "execution_count": null,
   "metadata": {
    "collapsed": true
   },
   "outputs": [],
   "source": []
  }
 ],
 "metadata": {
  "kernelspec": {
   "display_name": "Python 3",
   "language": "python",
   "name": "python3"
  },
  "language_info": {
   "codemirror_mode": {
    "name": "ipython",
    "version": 3
   },
   "file_extension": ".py",
   "mimetype": "text/x-python",
   "name": "python",
   "nbconvert_exporter": "python",
   "pygments_lexer": "ipython3",
   "version": "3.6.3"
  }
 },
 "nbformat": 4,
 "nbformat_minor": 2
}
