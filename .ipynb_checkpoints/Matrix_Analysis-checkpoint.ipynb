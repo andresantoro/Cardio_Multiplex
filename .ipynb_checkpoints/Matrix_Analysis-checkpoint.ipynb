{
 "cells": [
  {
   "cell_type": "code",
   "execution_count": 82,
   "metadata": {
    "collapsed": true
   },
   "outputs": [],
   "source": [
    "import numpy as np\n",
    "import copy\n",
    "import commands\n",
    "import os\n",
    "percentage= 0.1"
   ]
  },
  {
   "cell_type": "markdown",
   "metadata": {},
   "source": [
    "## Computing the mutual Information\n"
   ]
  },
  {
   "cell_type": "code",
   "execution_count": null,
   "metadata": {
    "collapsed": true
   },
   "outputs": [],
   "source": [
    "def calc_MI(x, y, bins):\n",
    "    # this hist function gives us the contigency of the elements of\n",
    "    # the arrays in the chunks (bins) (segments).\n",
    "    # so basically c_xy is a 2d array which every element is a\n",
    "    # mutual contigency (if i can say) of x and y in that segment.\n",
    "    c_xy = np.histogram2d(x,y,bins)[0]\n",
    "    c_x = np.histogram(x,bins)[0]\n",
    "    c_y = np.histogram(y,bins)[0]\n",
    "    H_x = shan_entropy(c_x)\n",
    "    H_y = shan_entropy(c_y)\n",
    "    H_xy = shan_entropy(c_xy)\n",
    "    MI = H_x + H_y - H_xy\n",
    "\n",
    "    # normalized MI :\n",
    "#    MI = 2*MI/(H_x + H_y)\n",
    "    return MI\n",
    "\n",
    "def shan_entropy(c):\n",
    "    # calculating the entropy (just like the formula)\n",
    "    c_normalized = c / float(np.sum(c))\n",
    "    c_normalized = c_normalized[np.nonzero(c_normalized)]\n",
    "    H = -sum(c_normalized* np.log2(c_normalized))\n",
    "    return H\n",
    "\n",
    "\n",
    "# calculating number of bins with that paper........\n",
    "def calc_bin_size(N):\n",
    "    ee = np.cbrt(8 + 324*N + 12*np.sqrt(36*N + 729*N**2))\n",
    "    bins = np.round(ee/6 + 2/(3*ee) + 1/3)\n",
    "\n",
    "    return int(bins)"
   ]
  },
  {
   "cell_type": "code",
   "execution_count": null,
   "metadata": {
    "collapsed": true
   },
   "outputs": [],
   "source": [
    "network=np.zeros((64,64))\n",
    "\n",
    "for i in range(1,len(network)+1):\n",
    "    print i\n",
    "    for j in range(i,len(network)+1):\n",
    "        string_data1=\"./real_healthy/degree_distr_{0}.txt\".format(i)\n",
    "        string_data2=\"./real_healthy/degree_distr_{0}.txt\".format(j)\n",
    "        data1 = np.loadtxt(string_data1)\n",
    "        data2 = np.loadtxt(string_data2)\n",
    "        result=calc_MI(data1,data2,1000)\n",
    "        network[i-1,j-1]=result\n",
    "        network[j-1,i-1]=result"
   ]
  },
  {
   "cell_type": "code",
   "execution_count": null,
   "metadata": {
    "collapsed": true
   },
   "outputs": [],
   "source": [
    "#Printing the data\n",
    "f_write = open('./real_healthy/network.txt', 'w+')\n",
    "for i in range(1,len(network)+1):\n",
    "    for j in range(1,len(network)+1):\n",
    "        f_write.write(\"%.6f \" % network[i-1][j-1])\n",
    "    f_write.write(\"\\n\")\n",
    "f_write.close()"
   ]
  },
  {
   "cell_type": "markdown",
   "metadata": {},
   "source": [
    "##  Healthy synthetic data"
   ]
  },
  {
   "cell_type": "code",
   "execution_count": 83,
   "metadata": {},
   "outputs": [
    {
     "name": "stdout",
     "output_type": "stream",
     "text": [
      "0.532488\n"
     ]
    }
   ],
   "source": [
    "healthy_data=np.loadtxt('./real_healthy_2/network.txt')\n",
    "data = copy.deepcopy(healthy_data)\n",
    "data=sorted(data.flatten())\n",
    "L = len(healthy_data)\n",
    "T= L * (L-1)/2\n",
    "for x in data:\n",
    "    if (len(healthy_data[healthy_data > x])-64)/2 ==  round(T*percentage):\n",
    "        break\n",
    "print x\n",
    "f = open('edge_list_healthy_real_0.1.txt','w+')\n",
    "for i in range(0,len(healthy_data)-1):\n",
    "    for j in range(i+1,len(healthy_data)):\n",
    "        if healthy_data[i,j] > x:\n",
    "            f.write('%d %d %f\\n' % (i+1,j+1,healthy_data[i,j]))\n",
    "f.close()\n",
    "#os.system('~/Documenti/PhD/Codici/Enzo/C/bin/deg_dist DISTR edge_list_healthy_filtered_0.3.txt > edge_list_healthy_filtered_0.3.txt_dgdistr')"
   ]
  },
  {
   "cell_type": "markdown",
   "metadata": {},
   "source": [
    "# Unhealthy synthetic data"
   ]
  },
  {
   "cell_type": "code",
   "execution_count": 84,
   "metadata": {},
   "outputs": [
    {
     "name": "stdout",
     "output_type": "stream",
     "text": [
      "0.795895\n"
     ]
    }
   ],
   "source": [
    "unhealthy_data=np.loadtxt('./real_disease/network.txt')\n",
    "data = copy.deepcopy(unhealthy_data)\n",
    "data=sorted(data.flatten())\n",
    "L = len(unhealthy_data)\n",
    "T= L * (L-1)/2\n",
    "for x in data:\n",
    "    if (len(unhealthy_data[unhealthy_data > x])-64)/2 ==  round(T*percentage):\n",
    "        break\n",
    "print x\n",
    "f = open('edge_list_unhealthy_real_0.1.txt','w+')\n",
    "for i in range(0,len(unhealthy_data)-1):\n",
    "    for j in range(i+1,len(unhealthy_data)):\n",
    "        if unhealthy_data[i,j] > x:\n",
    "            f.write('%d %d %f\\n' % (i+1,j+1,unhealthy_data[i,j]))\n",
    "f.close()\n",
    "#os.system('~/Documenti/PhD/Codici/Enzo/C/bin/deg_dist DISTR edge_list_unhealthy_filtered_0.3.txt > edge_list_unhealthy_filtered_0.3.txt_dgdistr')"
   ]
  },
  {
   "cell_type": "code",
   "execution_count": 72,
   "metadata": {},
   "outputs": [
    {
     "name": "stdout",
     "output_type": "stream",
     "text": [
      "0.1\n",
      "0.490812\n",
      "Healthy eff 0.39525218254\n",
      "0.77594\n",
      "Unhealthy eff 0.317485193452\n",
      "0.2\n",
      "0.394301\n",
      "Healthy eff 0.556134300595\n",
      "0.710825\n",
      "Unhealthy eff 0.423143948413\n",
      "0.30000000000000004\n",
      "0.359459\n",
      "Healthy eff 0.635747371032\n",
      "0.657722\n",
      "Unhealthy eff 0.516294618056\n",
      "0.4\n",
      "0.338278\n",
      "Healthy eff 0.695767237103\n",
      "0.616812\n",
      "Unhealthy eff 0.622974603175\n",
      "0.5\n",
      "0.318967\n",
      "Healthy eff 0.749752008929\n",
      "0.578522\n",
      "Unhealthy eff 0.698164632937\n",
      "0.6\n",
      "0.300363\n",
      "Healthy eff 0.798983134921\n",
      "0.537388\n",
      "Unhealthy eff 0.795510962302\n",
      "0.7000000000000001\n",
      "0.28166\n",
      "Healthy eff 0.847966269841\n",
      "0.503058\n",
      "Unhealthy eff 0.847924950397\n",
      "0.8\n",
      "0.259917\n",
      "Healthy eff 0.897817460317\n",
      "0.469486\n",
      "Unhealthy eff 0.898189484127\n",
      "0.9\n",
      "0.235675\n",
      "Healthy eff 0.947420634921\n",
      "0.409852\n",
      "Unhealthy eff 0.947544642857\n"
     ]
    }
   ],
   "source": [
    "fefficiency_healthy = open('efficiency_healthy_real.txt','w+')\n",
    "fefficiency_unhealthy = open('efficiency_unhealthy_real.txt','w+')\n",
    "for percentage in np.arange(0.1, 1.0, 0.1):\n",
    "    print percentage\n",
    "    healthy_data=np.loadtxt('./real_healthy/network.txt')\n",
    "    data = copy.deepcopy(healthy_data)\n",
    "    data=sorted(data.flatten())\n",
    "    L = len(healthy_data)\n",
    "    T= L * (L-1)/2\n",
    "    for x in data:\n",
    "        if (len(healthy_data[healthy_data > x])-169)/2 ==  round(T*percentage):\n",
    "            break\n",
    "    print x\n",
    "    f = open('edge_list_healthy_filtered_0.3.txt','w+')\n",
    "    for i in range(0,len(healthy_data)-1):\n",
    "        for j in range(i+1,len(healthy_data)):\n",
    "            if healthy_data[i,j] > x:\n",
    "                f.write('%d %d\\n' % (i+1,j+1))\n",
    "    f.close()\n",
    "    \n",
    "\n",
    "    os.system('~/Documenti/PhD/Codici/Enzo/C/bin/deg_dist DISTR edge_list_healthy_filtered_0.3.txt > edge_list_healthy_filtered_0.3.txt_dgdistr')\n",
    "    os.system('~/Documenti/PhD/Codici/Enzo/C/bin/components edge_list_healthy_filtered_0.3.txt | sort -n | tail -1 >> healthy_largest_CC.txt')\n",
    "    #computing the Latora-Marchiori efficiency of the healthy network\n",
    "    efficiency_healthy = 0.0\n",
    "    for k in range(1,len(healthy_data)+1):\n",
    "        str_tosys=\" ~/Documenti/PhD/Codici/Enzo/C/bin/shortest edge_list_healthy_filtered_0.3.txt \" + str(k) + \" | awk 'BEGIN {SUM=0} {for(i=1; i<NF; i++) if ($i != 64 && $i != 0 && $i != 65)  SUM+=1.0/$i} END {print SUM}'\"\n",
    "        status, output = commands.getstatusoutput(str_tosys)\n",
    "        efficiency_healthy+=float(output)\n",
    "    efficiency_healthy = (1.0*efficiency_healthy)/(len(healthy_data)*(len(healthy_data)-1))\n",
    "    print \"Healthy eff %s\" % str(efficiency_healthy)\n",
    "    fefficiency_healthy.write('%f %f\\n' % (percentage,efficiency_healthy))\n",
    "    \n",
    "    unhealthy_data=np.loadtxt('./real_disease/network.txt')\n",
    "    data = copy.deepcopy(unhealthy_data)\n",
    "    data=sorted(data.flatten())\n",
    "    L = len(unhealthy_data)\n",
    "    T= L * (L-1)/2\n",
    "    for x in data:\n",
    "        if (len(unhealthy_data[unhealthy_data > x])-169)/2 ==  round(T*percentage):\n",
    "            break\n",
    "    print x\n",
    "    f = open('edge_list_unhealthy_filtered_0.3.txt','w+')\n",
    "    for i in range(0,len(unhealthy_data)-1):\n",
    "        for j in range(i+1,len(unhealthy_data)):\n",
    "            if unhealthy_data[i,j] > x:\n",
    "                f.write('%d %d\\n' % (i+1,j+1))\n",
    "    f.close()\n",
    "    os.system('~/Documenti/PhD/Codici/Enzo/C/bin/deg_dist DISTR edge_list_unhealthy_filtered_0.3.txt > edge_list_unhealthy_filtered_0.3.txt_dgdistr')\n",
    "    os.system('~/Documenti/PhD/Codici/Enzo/C/bin/components edge_list_unhealthy_filtered_0.3.txt | sort -n | tail -1 >> unhealthy_largest_CC.txt')\n",
    "    #computing the Latora-Marchiori efficiency of the unhealthy network\n",
    "    efficiency_unhealthy = 0.0\n",
    "    for k in range(1,len(unhealthy_data)+1):\n",
    "        str_tosys=\" ~/Documenti/PhD/Codici/Enzo/C/bin/shortest edge_list_unhealthy_filtered_0.3.txt \" + str(k) + \" | awk 'BEGIN {SUM=0} {for(i=1; i<NF; i++) if ($i != 64 && $i != 0 && $i != 65) SUM+=1.0/$i} END {print SUM}'\"\n",
    "        status, output = commands.getstatusoutput(str_tosys)\n",
    "        efficiency_unhealthy+=float(output)\n",
    "    efficiency_unhealthy = (1.0*efficiency_unhealthy)/(len(unhealthy_data)*(len(unhealthy_data)-1))\n",
    "    print \"Unhealthy eff %s\" % str(efficiency_unhealthy)\n",
    "    fefficiency_unhealthy.write('%f %f\\n' % (percentage,efficiency_unhealthy))\n",
    "fefficiency_healthy.close()\n",
    "fefficiency_unhealthy.close()"
   ]
  },
  {
   "cell_type": "code",
   "execution_count": 77,
   "metadata": {
    "collapsed": true
   },
   "outputs": [],
   "source": [
    "efficiency = 0.0\n",
    "for i in range(1,len(unhealthy_data)+1):\n",
    "    str_tosys=\"~/Documenti/PhD/Codici/Enzo/C/bin/shortest edge_list_unhealthy_filtered_0.3.txt \" + str(i) + \" | awk '{ sum=$0; for(i=2; i<NF; i++) {if ($i != 0) $sum+=1.0/$i;} print $sum }'\"\n",
    "    status, output = commands.getstatusoutput(str_tosys)\n",
    "    efficiency+=float(output)\n",
    "efficiency = (1.0*efficiency)/(len(unhealthy_data)*(len(unhealthy_data)-1))"
   ]
  },
  {
   "cell_type": "code",
   "execution_count": 78,
   "metadata": {},
   "outputs": [
    {
     "data": {
      "text/plain": [
       "0.9634176587301587"
      ]
     },
     "execution_count": 78,
     "metadata": {},
     "output_type": "execute_result"
    }
   ],
   "source": [
    "efficiency"
   ]
  }
 ],
 "metadata": {
  "kernelspec": {
   "display_name": "Python 3",
   "language": "python",
   "name": "python3"
  },
  "language_info": {
   "codemirror_mode": {
    "name": "ipython",
    "version": 3
   },
   "file_extension": ".py",
   "mimetype": "text/x-python",
   "name": "python",
   "nbconvert_exporter": "python",
   "pygments_lexer": "ipython3",
   "version": "3.6.3"
  }
 },
 "nbformat": 4,
 "nbformat_minor": 2
}
