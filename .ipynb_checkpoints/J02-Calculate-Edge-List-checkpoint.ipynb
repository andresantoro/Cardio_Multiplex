{
 "cells": [
  {
   "cell_type": "markdown",
   "metadata": {},
   "source": [
    "# Extract Edge List"
   ]
  },
  {
   "cell_type": "markdown",
   "metadata": {},
   "source": [
    "## Housekeeping"
   ]
  },
  {
   "cell_type": "code",
   "execution_count": 21,
   "metadata": {},
   "outputs": [],
   "source": [
    "import numpy as np\n",
    "import copy\n",
    "#import commands\n",
    "import subprocess\n",
    "import os\n",
    "percentage= 0.1"
   ]
  },
  {
   "cell_type": "markdown",
   "metadata": {},
   "source": [
    "## Synthetic Data: Planar Wave and Spot Activation"
   ]
  },
  {
   "cell_type": "markdown",
   "metadata": {},
   "source": [
    "### Planar 1000"
   ]
  },
  {
   "cell_type": "code",
   "execution_count": 22,
   "metadata": {},
   "outputs": [
    {
     "name": "stdout",
     "output_type": "stream",
     "text": [
      "8.330354\n"
     ]
    }
   ],
   "source": [
    "planar1000=np.loadtxt('planar1000/network.txt')\n",
    "data = copy.deepcopy(planar1000)\n",
    "data=sorted(data.flatten())\n",
    "L = len(planar1000)\n",
    "T= L * (L-1)/2\n",
    "for x in data:\n",
    "    if (len(planar1000[planar1000 > x])-144)/2 ==  round(T*percentage):\n",
    "        break\n",
    "print(x)\n",
    "f = open('planar1000/edge_list_0.1.txt','w+')\n",
    "for i in range(0,len(planar1000)-1):\n",
    "    for j in range(i+1,len(planar1000)):\n",
    "        if planar1000[i,j] > x:\n",
    "            f.write('%d %d %f\\n' % (i+1,j+1,planar1000[i,j]))\n",
    "f.close()\n",
    "#os.system('~/Documenti/PhD/Codici/Enzo/C/bin/deg_dist DISTR edge_list_healthy_filtered_0.3.txt > edge_list_healthy_filtered_0.3.txt_dgdistr')"
   ]
  },
  {
   "cell_type": "markdown",
   "metadata": {},
   "source": [
    "## Planar 600"
   ]
  },
  {
   "cell_type": "code",
   "execution_count": 23,
   "metadata": {},
   "outputs": [
    {
     "name": "stdout",
     "output_type": "stream",
     "text": [
      "7.368644\n"
     ]
    }
   ],
   "source": [
    "planar600=np.loadtxt('planar600/network.txt')\n",
    "data = copy.deepcopy(planar600)\n",
    "data=sorted(data.flatten())\n",
    "L = len(planar600)\n",
    "T= L * (L-1)/2\n",
    "for x in data:\n",
    "    if (len(planar600[planar600 > x])-144)/2 ==  round(T*percentage):\n",
    "        break\n",
    "print(x)\n",
    "f = open('planar600/edge_list_0.1.txt','w+')\n",
    "for i in range(0,len(planar600)-1):\n",
    "    for j in range(i+1,len(planar600)):\n",
    "        if planar600[i,j] > x:\n",
    "            f.write('%d %d %f\\n' % (i+1,j+1,planar600[i,j]))\n",
    "f.close()\n",
    "#os.system('~/Documenti/PhD/Codici/Enzo/C/bin/deg_dist DISTR edge_list_healthy_filtered_0.3.txt > edge_list_healthy_filtered_0.3.txt_dgdistr')"
   ]
  },
  {
   "cell_type": "markdown",
   "metadata": {},
   "source": [
    "## Planar 300"
   ]
  },
  {
   "cell_type": "code",
   "execution_count": 24,
   "metadata": {},
   "outputs": [
    {
     "name": "stdout",
     "output_type": "stream",
     "text": [
      "6.858927\n"
     ]
    }
   ],
   "source": [
    "planar300=np.loadtxt('planar300/network.txt')\n",
    "data = copy.deepcopy(planar300)\n",
    "data=sorted(data.flatten())\n",
    "L = len(planar300)\n",
    "T= L * (L-1)/2\n",
    "for x in data:\n",
    "    if (len(planar300[planar300 > x])-144)/2 ==  round(T*percentage):\n",
    "        break\n",
    "print(x)\n",
    "f = open('planar300/edge_list_0.1.txt','w+')\n",
    "for i in range(0,len(planar300)-1):\n",
    "    for j in range(i+1,len(planar300)):\n",
    "        if planar300[i,j] > x:\n",
    "            f.write('%d %d %f\\n' % (i+1,j+1,planar300[i,j]))\n",
    "f.close()\n",
    "#os.system('~/Documenti/PhD/Codici/Enzo/C/bin/deg_dist DISTR edge_list_healthy_filtered_0.3.txt > edge_list_healthy_filtered_0.3.txt_dgdistr')"
   ]
  },
  {
   "cell_type": "markdown",
   "metadata": {},
   "source": [
    "## Spot 1000"
   ]
  },
  {
   "cell_type": "code",
   "execution_count": 25,
   "metadata": {},
   "outputs": [
    {
     "name": "stdout",
     "output_type": "stream",
     "text": [
      "5.359817\n"
     ]
    }
   ],
   "source": [
    "spot1000=np.loadtxt('spot1000/network.txt')\n",
    "data = copy.deepcopy(spot1000)\n",
    "data=sorted(data.flatten())\n",
    "L = len(spot1000)\n",
    "T= L * (L-1)/2\n",
    "for x in data:\n",
    "    if (len(spot1000[spot1000 > x])-144)/2 ==  round(T*percentage):\n",
    "        break\n",
    "print(x)\n",
    "f = open('spot1000/edge_list_0.1.txt','w+')\n",
    "for i in range(0,len(spot1000)-1):\n",
    "    for j in range(i+1,len(spot1000)):\n",
    "        if spot1000[i,j] > x:\n",
    "            f.write('%d %d %f\\n' % (i+1,j+1,spot1000[i,j]))\n",
    "f.close()\n",
    "#os.system('~/Documenti/PhD/Codici/Enzo/C/bin/deg_dist DISTR edge_list_healthy_filtered_0.3.txt > edge_list_healthy_filtered_0.3.txt_dgdistr')"
   ]
  },
  {
   "cell_type": "markdown",
   "metadata": {},
   "source": [
    "## Spot 600"
   ]
  },
  {
   "cell_type": "code",
   "execution_count": 26,
   "metadata": {},
   "outputs": [
    {
     "name": "stdout",
     "output_type": "stream",
     "text": [
      "5.577522\n"
     ]
    }
   ],
   "source": [
    "spot600=np.loadtxt('spot600/network.txt')\n",
    "data = copy.deepcopy(spot600)\n",
    "data=sorted(data.flatten())\n",
    "L = len(spot600)\n",
    "T= L * (L-1)/2\n",
    "for x in data:\n",
    "    if (len(spot600[spot600 > x])-144)/2 ==  round(T*percentage):\n",
    "        break\n",
    "print(x)\n",
    "f = open('spot600/edge_list_0.1.txt','w+')\n",
    "for i in range(0,len(spot600)-1):\n",
    "    for j in range(i+1,len(spot600)):\n",
    "        if spot600[i,j] > x:\n",
    "            f.write('%d %d %f\\n' % (i+1,j+1,spot600[i,j]))\n",
    "f.close()\n",
    "#os.system('~/Documenti/PhD/Codici/Enzo/C/bin/deg_dist DISTR edge_list_healthy_filtered_0.3.txt > edge_list_healthy_filtered_0.3.txt_dgdistr')"
   ]
  },
  {
   "cell_type": "markdown",
   "metadata": {},
   "source": [
    "## Spot 300"
   ]
  },
  {
   "cell_type": "code",
   "execution_count": 27,
   "metadata": {},
   "outputs": [
    {
     "name": "stdout",
     "output_type": "stream",
     "text": [
      "3.835914\n"
     ]
    }
   ],
   "source": [
    "spot300=np.loadtxt('spot300/network.txt')\n",
    "data = copy.deepcopy(spot300)\n",
    "data=sorted(data.flatten())\n",
    "L = len(spot300)\n",
    "T= L * (L-1)/2\n",
    "for x in data:\n",
    "    if (len(spot300[spot300 > x])-144)/2 ==  round(T*percentage):\n",
    "        break\n",
    "print(x)\n",
    "f = open('spot300/edge_list_0.1.txt','w+')\n",
    "for i in range(0,len(spot300)-1):\n",
    "    for j in range(i+1,len(spot300)):\n",
    "        if spot300[i,j] > x:\n",
    "            f.write('%d %d %f\\n' % (i+1,j+1,spot300[i,j]))\n",
    "f.close()\n",
    "#os.system('~/Documenti/PhD/Codici/Enzo/C/bin/deg_dist DISTR edge_list_healthy_filtered_0.3.txt > edge_list_healthy_filtered_0.3.txt_dgdistr')"
   ]
  },
  {
   "cell_type": "markdown",
   "metadata": {},
   "source": [
    "## Spiral Wave 1"
   ]
  },
  {
   "cell_type": "code",
   "execution_count": 28,
   "metadata": {},
   "outputs": [
    {
     "name": "stdout",
     "output_type": "stream",
     "text": [
      "3.093868\n"
     ]
    }
   ],
   "source": [
    "sw1=np.loadtxt('sw1/network.txt')\n",
    "data = copy.deepcopy(sw1)\n",
    "data=sorted(data.flatten())\n",
    "L = len(sw1)\n",
    "T= L * (L-1)/2\n",
    "for x in data:\n",
    "    if (len(sw1[sw1 > x])-144)/2 ==  round(T*percentage):\n",
    "        break\n",
    "print(x)\n",
    "f = open('sw1/edge_list_0.1.txt','w+')\n",
    "for i in range(0,len(sw1)-1):\n",
    "    for j in range(i+1,len(sw1)):\n",
    "        if sw1[i,j] > x:\n",
    "            f.write('%d %d %f\\n' % (i+1,j+1,sw1[i,j]))\n",
    "f.close()\n",
    "#os.system('~/Documenti/PhD/Codici/Enzo/C/bin/deg_dist DISTR edge_list_healthy_filtered_0.3.txt > edge_list_healthy_filtered_0.3.txt_dgdistr')"
   ]
  },
  {
   "cell_type": "markdown",
   "metadata": {},
   "source": [
    "## Spiral Wave 2"
   ]
  },
  {
   "cell_type": "code",
   "execution_count": 29,
   "metadata": {},
   "outputs": [
    {
     "name": "stdout",
     "output_type": "stream",
     "text": [
      "2.76584\n"
     ]
    }
   ],
   "source": [
    "sw2=np.loadtxt('sw2/network.txt')\n",
    "data = copy.deepcopy(sw2)\n",
    "data=sorted(data.flatten())\n",
    "L = len(sw2)\n",
    "T= L * (L-1)/2\n",
    "for x in data:\n",
    "    if (len(sw2[sw2 > x])-144)/2 ==  round(T*percentage):\n",
    "        break\n",
    "print(x)\n",
    "f = open('sw2/edge_list_0.1.txt','w+')\n",
    "for i in range(0,len(sw2)-1):\n",
    "    for j in range(i+1,len(sw2)):\n",
    "        if sw2[i,j] > x:\n",
    "            f.write('%d %d %f\\n' % (i+1,j+1,sw2[i,j]))\n",
    "f.close()\n",
    "#os.system('~/Documenti/PhD/Codici/Enzo/C/bin/deg_dist DISTR edge_list_healthy_filtered_0.3.txt > edge_list_healthy_filtered_0.3.txt_dgdistr')"
   ]
  },
  {
   "cell_type": "markdown",
   "metadata": {},
   "source": [
    "## Spiral Wave 3"
   ]
  },
  {
   "cell_type": "code",
   "execution_count": 30,
   "metadata": {},
   "outputs": [
    {
     "name": "stdout",
     "output_type": "stream",
     "text": [
      "2.149943\n"
     ]
    }
   ],
   "source": [
    "sw3=np.loadtxt('sw3/network.txt')\n",
    "data = copy.deepcopy(sw3)\n",
    "data=sorted(data.flatten())\n",
    "L = len(sw3)\n",
    "T= L * (L-1)/2\n",
    "for x in data:\n",
    "    if (len(sw3[sw3 > x])-144)/2 ==  round(T*percentage):\n",
    "        break\n",
    "print(x)\n",
    "f = open('sw3/edge_list_0.1.txt','w+')\n",
    "for i in range(0,len(sw3)-1):\n",
    "    for j in range(i+1,len(sw3)):\n",
    "        if sw3[i,j] > x:\n",
    "            f.write('%d %d %f\\n' % (i+1,j+1,sw3[i,j]))\n",
    "f.close()\n",
    "#os.system('~/Documenti/PhD/Codici/Enzo/C/bin/deg_dist DISTR edge_list_healthy_filtered_0.3.txt > edge_list_healthy_filtered_0.3.txt_dgdistr')"
   ]
  },
  {
   "cell_type": "markdown",
   "metadata": {},
   "source": [
    "## Spiral Wave 4"
   ]
  },
  {
   "cell_type": "code",
   "execution_count": 31,
   "metadata": {},
   "outputs": [
    {
     "name": "stdout",
     "output_type": "stream",
     "text": [
      "2.116648\n"
     ]
    }
   ],
   "source": [
    "sw4=np.loadtxt('sw4/network.txt')\n",
    "data = copy.deepcopy(sw4)\n",
    "data=sorted(data.flatten())\n",
    "L = len(sw4)\n",
    "T= L * (L-1)/2\n",
    "for x in data:\n",
    "    if (len(sw4[sw4 > x])-144)/2 ==  round(T*percentage):\n",
    "        break\n",
    "print(x)\n",
    "f = open('sw4/edge_list_0.1.txt','w+')\n",
    "for i in range(0,len(sw4)-1):\n",
    "    for j in range(i+1,len(sw4)):\n",
    "        if sw4[i,j] > x:\n",
    "            f.write('%d %d %f\\n' % (i+1,j+1,sw4[i,j]))\n",
    "f.close()\n",
    "#os.system('~/Documenti/PhD/Codici/Enzo/C/bin/deg_dist DISTR edge_list_healthy_filtered_0.3.txt > edge_list_healthy_filtered_0.3.txt_dgdistr')"
   ]
  },
  {
   "cell_type": "markdown",
   "metadata": {},
   "source": [
    "## Spiral Wave 5"
   ]
  },
  {
   "cell_type": "code",
   "execution_count": 32,
   "metadata": {},
   "outputs": [
    {
     "name": "stdout",
     "output_type": "stream",
     "text": [
      "2.0075\n"
     ]
    }
   ],
   "source": [
    "sw5=np.loadtxt('sw5/network.txt')\n",
    "data = copy.deepcopy(sw5)\n",
    "data=sorted(data.flatten())\n",
    "L = len(sw5)\n",
    "T= L * (L-1)/2\n",
    "for x in data:\n",
    "    if (len(sw5[sw5 > x])-144)/2 ==  round(T*percentage):\n",
    "        break\n",
    "print(x)\n",
    "f = open('sw5/edge_list_0.1.txt','w+')\n",
    "for i in range(0,len(sw5)-1):\n",
    "    for j in range(i+1,len(sw5)):\n",
    "        if sw5[i,j] > x:\n",
    "            f.write('%d %d %f\\n' % (i+1,j+1,sw5[i,j]))\n",
    "f.close()\n",
    "#os.system('~/Documenti/PhD/Codici/Enzo/C/bin/deg_dist DISTR edge_list_healthy_filtered_0.3.txt > edge_list_healthy_filtered_0.3.txt_dgdistr')"
   ]
  },
  {
   "cell_type": "markdown",
   "metadata": {},
   "source": [
    "## Spiral Wave 6"
   ]
  },
  {
   "cell_type": "code",
   "execution_count": 33,
   "metadata": {},
   "outputs": [
    {
     "name": "stdout",
     "output_type": "stream",
     "text": [
      "1.911099\n"
     ]
    }
   ],
   "source": [
    "sw6=np.loadtxt('sw6/network.txt')\n",
    "data = copy.deepcopy(sw6)\n",
    "data=sorted(data.flatten())\n",
    "L = len(sw6)\n",
    "T= L * (L-1)/2\n",
    "for x in data:\n",
    "    if (len(sw6[sw6 > x])-144)/2 ==  round(T*percentage):\n",
    "        break\n",
    "print(x)\n",
    "f = open('sw6/edge_list_0.1.txt','w+')\n",
    "for i in range(0,len(sw6)-1):\n",
    "    for j in range(i+1,len(sw6)):\n",
    "        if sw6[i,j] > x:\n",
    "            f.write('%d %d %f\\n' % (i+1,j+1,sw6[i,j]))\n",
    "f.close()\n",
    "#os.system('~/Documenti/PhD/Codici/Enzo/C/bin/deg_dist DISTR edge_list_healthy_filtered_0.3.txt > edge_list_healthy_filtered_0.3.txt_dgdistr')"
   ]
  },
  {
   "cell_type": "markdown",
   "metadata": {},
   "source": [
    "## Spiral Wave 7"
   ]
  },
  {
   "cell_type": "code",
   "execution_count": 34,
   "metadata": {},
   "outputs": [
    {
     "name": "stdout",
     "output_type": "stream",
     "text": [
      "1.924678\n"
     ]
    }
   ],
   "source": [
    "sw7=np.loadtxt('sw7/network.txt')\n",
    "data = copy.deepcopy(sw7)\n",
    "data=sorted(data.flatten())\n",
    "L = len(sw7)\n",
    "T= L * (L-1)/2\n",
    "for x in data:\n",
    "    if (len(sw7[sw7 > x])-144)/2 ==  round(T*percentage):\n",
    "        break\n",
    "print(x)\n",
    "f = open('sw7/edge_list_0.1.txt','w+')\n",
    "for i in range(0,len(sw7)-1):\n",
    "    for j in range(i+1,len(sw7)):\n",
    "        if sw7[i,j] > x:\n",
    "            f.write('%d %d %f\\n' % (i+1,j+1,sw7[i,j]))\n",
    "f.close()\n",
    "#os.system('~/Documenti/PhD/Codici/Enzo/C/bin/deg_dist DISTR edge_list_healthy_filtered_0.3.txt > edge_list_healthy_filtered_0.3.txt_dgdistr')"
   ]
  }
 ],
 "metadata": {
  "kernelspec": {
   "display_name": "Python 3",
   "language": "python",
   "name": "python3"
  },
  "language_info": {
   "codemirror_mode": {
    "name": "ipython",
    "version": 3
   },
   "file_extension": ".py",
   "mimetype": "text/x-python",
   "name": "python",
   "nbconvert_exporter": "python",
   "pygments_lexer": "ipython3",
   "version": "3.6.3"
  }
 },
 "nbformat": 4,
 "nbformat_minor": 2
}
